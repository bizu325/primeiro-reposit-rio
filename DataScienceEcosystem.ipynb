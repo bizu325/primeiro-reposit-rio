{
  "metadata": {
    "kernelspec": {
      "name": "python",
      "display_name": "Python (Pyodide)",
      "language": "python"
    },
    "language_info": {
      "codemirror_mode": {
        "name": "python",
        "version": 3
      },
      "file_extension": ".py",
      "mimetype": "text/x-python",
      "name": "python",
      "nbconvert_exporter": "python",
      "pygments_lexer": "ipython3",
      "version": "3.8"
    }
  },
  "nbformat_minor": 5,
  "nbformat": 4,
  "cells": [
    {
      "id": "dbf7f11f-9367-413e-9386-629edb165951",
      "cell_type": "markdown",
      "source": "# Data Science Tools and Ecosystem",
      "metadata": {}
    },
    {
      "id": "f4672f2f-56b6-47a8-845a-223e96e8803e",
      "cell_type": "markdown",
      "source": "In this notebook, we will discuss some of the tools used in data science.",
      "metadata": {}
    },
    {
      "id": "0a0b3153-0ae2-4a9d-918a-5c86639aa574",
      "cell_type": "markdown",
      "source": "__Objective:__ This Notebook aims to present some of the main tools used in data science:\n + Python\n + Matplotlib\n + R\n + SQL",
      "metadata": {}
    },
    {
      "id": "62e692e4-d7ae-4eaa-9a5c-604d41246afa",
      "cell_type": "markdown",
      "source": "Data science has proven to be highly relevant in recent years. Below, you can find some of the main languages used:",
      "metadata": {}
    },
    {
      "id": "cded8d79-14ee-4a34-9495-580ce87a7dcf",
      "cell_type": "markdown",
      "source": "1. Python\n2. R\n3. SQL",
      "metadata": {}
    },
    {
      "id": "f0b43afc-f913-4d28-ae46-09b2ebf13aa6",
      "cell_type": "markdown",
      "source": "Due to its relevance in the field of data, some of the main libraries used in this area will be listed:",
      "metadata": {}
    },
    {
      "id": "c216ee3b-88fd-4fb1-ae32-2fb674e241b4",
      "cell_type": "markdown",
      "source": "1. Numpy\n2. Pandas\n3. Matplotlib",
      "metadata": {}
    },
    {
      "id": "4943ca50-ff15-4550-839a-7dd26d8b0da2",
      "cell_type": "markdown",
      "source": "|Open Source Data Science Tools|\n|:----------------------------:|\n|Dplyr(R)|\n|Pandas(Python)|\n|Scikit-learn(Python)|",
      "metadata": {}
    },
    {
      "id": "c59280e0-92a8-40b6-b96a-dd1a600133a1",
      "cell_type": "markdown",
      "source": "### Below are some arithmetic expressions in Python:",
      "metadata": {}
    },
    {
      "id": "924b1bd0-f252-412a-ab13-d24b10edd391",
      "cell_type": "code",
      "source": "# We will perform a multiplication followed by a sum of integers:\n(3*4)+5",
      "metadata": {
        "trusted": true
      },
      "outputs": [
        {
          "execution_count": 10,
          "output_type": "execute_result",
          "data": {
            "text/plain": "17"
          },
          "metadata": {}
        }
      ],
      "execution_count": 10
    },
    {
      "id": "d32762b5-2a8d-4c87-90fe-dd649fee32d0",
      "cell_type": "code",
      "source": "# The conversion of 200 minutes into hours will be performed by dividing the total number of minutes by 60, which is equivalent to one hour.\n200/60\n",
      "metadata": {
        "trusted": true
      },
      "outputs": [
        {
          "execution_count": 11,
          "output_type": "execute_result",
          "data": {
            "text/plain": "3.3333333333333335"
          },
          "metadata": {}
        }
      ],
      "execution_count": 11
    },
    {
      "id": "6137bb4f-df91-45c4-bb59-150b5484a62e",
      "cell_type": "markdown",
      "source": "## Author\nEdinardo Vieira",
      "metadata": {}
    },
    {
      "id": "c3b10b6a-3195-4690-bcd4-9168e5a91cbf",
      "cell_type": "code",
      "source": "",
      "metadata": {
        "trusted": true
      },
      "outputs": [],
      "execution_count": null
    }
  ]
}
