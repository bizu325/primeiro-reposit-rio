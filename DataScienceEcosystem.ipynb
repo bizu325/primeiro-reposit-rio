{
  "metadata": {
    "kernelspec": {
      "name": "python",
      "display_name": "Python (Pyodide)",
      "language": "python"
    },
    "language_info": {
      "codemirror_mode": {
        "name": "python",
        "version": 3
      },
      "file_extension": ".py",
      "mimetype": "text/x-python",
      "name": "python",
      "nbconvert_exporter": "python",
      "pygments_lexer": "ipython3",
      "version": "3.8"
    }
  },
  "nbformat_minor": 5,
  "nbformat": 4,
  "cells": [
    {
      "id": "dbf7f11f-9367-413e-9386-629edb165951",
      "cell_type": "markdown",
      "source": "# Data Science Tools and Ecosystem",
      "metadata": {}
    },
    {
      "id": "f4672f2f-56b6-47a8-845a-223e96e8803e",
      "cell_type": "markdown",
      "source": "Neste notebook, falaremos sobre algumas das ferramentas utilizadas em ciência de dados.",
      "metadata": {}
    },
    {
      "id": "0a0b3153-0ae2-4a9d-918a-5c86639aa574",
      "cell_type": "markdown",
      "source": " __Objetivos:__ este Notebook tem por interesse apresentar algumas das principais ferramentas utilizadas em data science:\n + Python\n + Matplotlib\n + R\n + SQL",
      "metadata": {}
    },
    {
      "id": "62e692e4-d7ae-4eaa-9a5c-604d41246afa",
      "cell_type": "markdown",
      "source": "Ciência de dados tem se mostrado com bastante relevância nos últimos anos, abaixo pode ser conferido algumas das principais linguagens utilizadas:",
      "metadata": {}
    },
    {
      "id": "cded8d79-14ee-4a34-9495-580ce87a7dcf",
      "cell_type": "markdown",
      "source": "1. Python\n2. R\n3. SQL",
      "metadata": {}
    },
    {
      "id": "f0b43afc-f913-4d28-ae46-09b2ebf13aa6",
      "cell_type": "markdown",
      "source": "Devido à relevância para a área de dados, serão listadas algumas das principais bibliotecas utilizadas para este campo:",
      "metadata": {}
    },
    {
      "id": "c216ee3b-88fd-4fb1-ae32-2fb674e241b4",
      "cell_type": "markdown",
      "source": "1. Numpy\n2. Pandas\n3. Matplotlib",
      "metadata": {}
    },
    {
      "id": "4943ca50-ff15-4550-839a-7dd26d8b0da2",
      "cell_type": "markdown",
      "source": "|Ferramentas Open Source de ciência de dados|\n|:-----------------------------------------:|\n|Dplyr(R)|\n|Pandas(Python)|\n|Scikit-learn(Python)|",
      "metadata": {}
    },
    {
      "id": "c59280e0-92a8-40b6-b96a-dd1a600133a1",
      "cell_type": "markdown",
      "source": "### Abaixo estão algumas expressões aritmeticas em python:",
      "metadata": {}
    },
    {
      "id": "924b1bd0-f252-412a-ab13-d24b10edd391",
      "cell_type": "code",
      "source": "# Realizaremos uma multiplicação seguida de uma soma de números inteiros:\n(3*4)+5",
      "metadata": {
        "trusted": true
      },
      "outputs": [
        {
          "execution_count": 10,
          "output_type": "execute_result",
          "data": {
            "text/plain": "17"
          },
          "metadata": {}
        }
      ],
      "execution_count": 10
    },
    {
      "id": "d32762b5-2a8d-4c87-90fe-dd649fee32d0",
      "cell_type": "code",
      "source": "# A conversão de 200 minutos em horas será realizada por meio da divisão do total de minutos por 60, o que equivale a uma hora.\n200/60\n",
      "metadata": {
        "trusted": true
      },
      "outputs": [
        {
          "execution_count": 11,
          "output_type": "execute_result",
          "data": {
            "text/plain": "3.3333333333333335"
          },
          "metadata": {}
        }
      ],
      "execution_count": 11
    },
    {
      "id": "6137bb4f-df91-45c4-bb59-150b5484a62e",
      "cell_type": "markdown",
      "source": "## Autor\nEdinardo Vieira",
      "metadata": {}
    },
    {
      "id": "c3b10b6a-3195-4690-bcd4-9168e5a91cbf",
      "cell_type": "code",
      "source": "",
      "metadata": {
        "trusted": true
      },
      "outputs": [],
      "execution_count": null
    }
  ]
}